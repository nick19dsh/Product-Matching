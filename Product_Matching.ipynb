{
  "cells": [
    {
      "cell_type": "markdown",
      "metadata": {
        "id": "2daa42d9"
      },
      "source": [
        "## Importing libraries and loading the data"
      ],
      "id": "2daa42d9"
    },
    {
      "cell_type": "code",
      "execution_count": 1,
      "metadata": {
        "id": "5dc04f66"
      },
      "outputs": [],
      "source": [
        "import numpy as np\n",
        "import pandas as pd"
      ],
      "id": "5dc04f66"
    },
    {
      "cell_type": "code",
      "execution_count": 2,
      "metadata": {
        "id": "e9bae6e6"
      },
      "outputs": [],
      "source": [
        "fkt_df = pd.read_csv('flipkart_com-ecommerce_sample.csv', encoding=\"ISO-8859-1\")\n",
        "amz_df = pd.read_csv('amz_com-ecommerce_sample.csv', encoding=\"ISO-8859-1\")"
      ],
      "id": "e9bae6e6"
    },
    {
      "cell_type": "markdown",
      "metadata": {
        "id": "ca8f31c1"
      },
      "source": [
        "## Data cleaning and preprocessing with flipkart dataset"
      ],
      "id": "ca8f31c1"
    },
    {
      "cell_type": "code",
      "execution_count": 3,
      "metadata": {
        "colab": {
          "base_uri": "https://localhost:8080/"
        },
        "id": "77d9c72b",
        "outputId": "5dea4ace-2231-4fd0-b73e-bd17e5d3b305"
      },
      "outputs": [
        {
          "output_type": "execute_result",
          "data": {
            "text/plain": [
              "20000"
            ]
          },
          "metadata": {},
          "execution_count": 3
        }
      ],
      "source": [
        "len(fkt_df)"
      ],
      "id": "77d9c72b"
    },
    {
      "cell_type": "code",
      "execution_count": 4,
      "metadata": {
        "colab": {
          "base_uri": "https://localhost:8080/"
        },
        "id": "1180ad0a",
        "outputId": "f3f52eea-7473-4c6b-e8f9-e7d656c2860a"
      },
      "outputs": [
        {
          "output_type": "execute_result",
          "data": {
            "text/plain": [
              "uniq_id                       0\n",
              "crawl_timestamp               0\n",
              "product_url                   0\n",
              "product_name                  0\n",
              "product_category_tree         0\n",
              "pid                           0\n",
              "retail_price                 78\n",
              "discounted_price             78\n",
              "image                         3\n",
              "is_FK_Advantage_product       0\n",
              "description                   2\n",
              "product_rating                0\n",
              "overall_rating                0\n",
              "brand                      5864\n",
              "product_specifications       14\n",
              "dtype: int64"
            ]
          },
          "metadata": {},
          "execution_count": 4
        }
      ],
      "source": [
        "fkt_df.isna().sum()"
      ],
      "id": "1180ad0a"
    },
    {
      "cell_type": "code",
      "execution_count": 5,
      "metadata": {
        "id": "f77d832d"
      },
      "outputs": [],
      "source": [
        "# Removing missing values\n",
        "fkt_df = fkt_df.dropna(subset=[\"retail_price\",\"discounted_price\",\"image\",\"description\",\"product_specifications\",\"brand\"])\n",
        "fkt_df.reset_index(drop=True, inplace=True)"
      ],
      "id": "f77d832d"
    },
    {
      "cell_type": "code",
      "execution_count": 6,
      "metadata": {
        "colab": {
          "base_uri": "https://localhost:8080/"
        },
        "id": "fecf9a0a",
        "outputId": "d846628d-05f7-4b15-8897-6af9047411a8"
      },
      "outputs": [
        {
          "output_type": "execute_result",
          "data": {
            "text/plain": [
              "14058"
            ]
          },
          "metadata": {},
          "execution_count": 6
        }
      ],
      "source": [
        "len(fkt_df)"
      ],
      "id": "fecf9a0a"
    },
    {
      "cell_type": "code",
      "execution_count": 7,
      "metadata": {
        "colab": {
          "base_uri": "https://localhost:8080/"
        },
        "id": "1c08b821",
        "outputId": "1030ef54-d9cc-4599-a028-c4f60a6e1484"
      },
      "outputs": [
        {
          "output_type": "stream",
          "name": "stderr",
          "text": [
            "/usr/local/lib/python3.8/dist-packages/pandas/core/indexing.py:1684: SettingWithCopyWarning: \n",
            "A value is trying to be set on a copy of a slice from a DataFrame.\n",
            "Try using .loc[row_indexer,col_indexer] = value instead\n",
            "\n",
            "See the caveats in the documentation: https://pandas.pydata.org/pandas-docs/stable/user_guide/indexing.html#returning-a-view-versus-a-copy\n",
            "  self.obj[key] = infer_fill_value(value)\n",
            "/usr/local/lib/python3.8/dist-packages/pandas/core/indexing.py:1817: SettingWithCopyWarning: \n",
            "A value is trying to be set on a copy of a slice from a DataFrame.\n",
            "Try using .loc[row_indexer,col_indexer] = value instead\n",
            "\n",
            "See the caveats in the documentation: https://pandas.pydata.org/pandas-docs/stable/user_guide/indexing.html#returning-a-view-versus-a-copy\n",
            "  self._setitem_single_column(loc, value, pi)\n",
            "/usr/local/lib/python3.8/dist-packages/pandas/core/indexing.py:1797: SettingWithCopyWarning: \n",
            "A value is trying to be set on a copy of a slice from a DataFrame.\n",
            "Try using .loc[row_indexer,col_indexer] = value instead\n",
            "\n",
            "See the caveats in the documentation: https://pandas.pydata.org/pandas-docs/stable/user_guide/indexing.html#returning-a-view-versus-a-copy\n",
            "  self._setitem_single_column(loc, v, pi)\n"
          ]
        }
      ],
      "source": [
        "# Splitting category into seperate tags\n",
        "import re\n",
        "for i in range(len(fkt_df)):\n",
        "    x = fkt_df.loc[i, \"product_category_tree\"].split(\">>\")\n",
        "    tags = [re.sub(\"[^a-zA-Z]+\", \" \", i).strip() for i in x]\n",
        "    fkt_df.loc[i, \"category_1\"] = tags[0]\n",
        "    try:\n",
        "        fkt_df.loc[i, \"category_2\"] = tags[1]\n",
        "    except:\n",
        "        fkt_df.loc[i, \"category_2\"] = \" \"\n",
        "    try:\n",
        "        fkt_df.loc[i, \"category_3\"] = tags[2:]\n",
        "    except:\n",
        "        fkt_df.loc[i, \"category_3\"] = \" \""
      ],
      "id": "1c08b821"
    },
    {
      "cell_type": "code",
      "source": [
        "#Dropping irrelevant columns\n",
        "fkt_df.drop([\"product_category_tree\",\"uniq_id\",\"crawl_timestamp\",\"product_url\",\"pid\",\"is_FK_Advantage_product\",\"overall_rating\",\"product_rating\"],axis=1, inplace=True)"
      ],
      "metadata": {
        "id": "6L3xxY5wsHBp"
      },
      "id": "6L3xxY5wsHBp",
      "execution_count": 8,
      "outputs": []
    },
    {
      "cell_type": "code",
      "execution_count": 9,
      "metadata": {
        "id": "05fd59f4"
      },
      "outputs": [],
      "source": [
        "# Sorting the dataset by category\n",
        "fkt_df.sort_values(by=[\"category_1\",\"category_2\",\"category_3\"], inplace=True)"
      ],
      "id": "05fd59f4"
    },
    {
      "cell_type": "code",
      "execution_count": 10,
      "metadata": {
        "colab": {
          "base_uri": "https://localhost:8080/",
          "height": 634
        },
        "id": "15d624b9",
        "outputId": "b2118e9e-277d-43f7-a355-d745c1a999c2"
      },
      "outputs": [
        {
          "output_type": "execute_result",
          "data": {
            "text/plain": [
              "                                      product_name  retail_price  \\\n",
              "10261                       ABEEZ Boys, Men, Girls         399.0   \n",
              "607                      ANAND ARCHIES Girls Flats         499.0   \n",
              "13073                    ANAND ARCHIES Girls Flats         499.0   \n",
              "608                     ANAND ARCHIES Girls Wedges         899.0   \n",
              "4203   ANASAZI Casual 3/4 Sleeve Solid Women's Top         899.0   \n",
              "\n",
              "       discounted_price                                              image  \\\n",
              "10261             289.0  [\"http://img5a.flixcart.com/image/wrist-band/z...   \n",
              "607               499.0  [\"http://img5a.flixcart.com/image/sandal/y/y/f...   \n",
              "13073             399.0  [\"http://img6a.flixcart.com/image/sandal/k/h/f...   \n",
              "608               899.0  [\"http://img5a.flixcart.com/image/sandal/8/g/j...   \n",
              "4203              899.0  [\"http://img5a.flixcart.com/image/top/x/z/j/21...   \n",
              "\n",
              "                                             description          brand  \\\n",
              "10261  Key Features of ABEEZ Boys, Men, Girls Wrist b...          ABEEZ   \n",
              "607    Specifications of ANAND ARCHIES Girls Flats Ge...  ANAND ARCHIES   \n",
              "13073  Specifications of ANAND ARCHIES Girls Flats Ge...  ANAND ARCHIES   \n",
              "608    Specifications of ANAND ARCHIES Girls Wedges G...  ANAND ARCHIES   \n",
              "4203   Specifications of ANASAZI Casual 3/4 Sleeve So...        ANASAZI   \n",
              "\n",
              "                                  product_specifications  \\\n",
              "10261  {\"product_specification\"=>[{\"key\"=>\"Material\",...   \n",
              "607    {\"product_specification\"=>[{\"key\"=>\"Ideal For\"...   \n",
              "13073  {\"product_specification\"=>[{\"key\"=>\"Ideal For\"...   \n",
              "608    {\"product_specification\"=>[{\"key\"=>\"Ideal For\"...   \n",
              "4203   {\"product_specification\"=>[{\"key\"=>\"Sleeve\", \"...   \n",
              "\n",
              "                                    category_1 category_2 category_3  \n",
              "10261       ABEEZ Boys Men Girls Black Pack of                        \n",
              "607                  ANAND ARCHIES Girls Flats                        \n",
              "13073                ANAND ARCHIES Girls Flats                        \n",
              "608                 ANAND ARCHIES Girls Wedges                        \n",
              "4203   ANASAZI Casual Sleeve Solid Women s Top                        "
            ],
            "text/html": [
              "\n",
              "  <div id=\"df-aa08bb74-c349-4201-be91-1bfe1dd8803a\">\n",
              "    <div class=\"colab-df-container\">\n",
              "      <div>\n",
              "<style scoped>\n",
              "    .dataframe tbody tr th:only-of-type {\n",
              "        vertical-align: middle;\n",
              "    }\n",
              "\n",
              "    .dataframe tbody tr th {\n",
              "        vertical-align: top;\n",
              "    }\n",
              "\n",
              "    .dataframe thead th {\n",
              "        text-align: right;\n",
              "    }\n",
              "</style>\n",
              "<table border=\"1\" class=\"dataframe\">\n",
              "  <thead>\n",
              "    <tr style=\"text-align: right;\">\n",
              "      <th></th>\n",
              "      <th>product_name</th>\n",
              "      <th>retail_price</th>\n",
              "      <th>discounted_price</th>\n",
              "      <th>image</th>\n",
              "      <th>description</th>\n",
              "      <th>brand</th>\n",
              "      <th>product_specifications</th>\n",
              "      <th>category_1</th>\n",
              "      <th>category_2</th>\n",
              "      <th>category_3</th>\n",
              "    </tr>\n",
              "  </thead>\n",
              "  <tbody>\n",
              "    <tr>\n",
              "      <th>10261</th>\n",
              "      <td>ABEEZ Boys, Men, Girls</td>\n",
              "      <td>399.0</td>\n",
              "      <td>289.0</td>\n",
              "      <td>[\"http://img5a.flixcart.com/image/wrist-band/z...</td>\n",
              "      <td>Key Features of ABEEZ Boys, Men, Girls Wrist b...</td>\n",
              "      <td>ABEEZ</td>\n",
              "      <td>{\"product_specification\"=&gt;[{\"key\"=&gt;\"Material\",...</td>\n",
              "      <td>ABEEZ Boys Men Girls Black Pack of</td>\n",
              "      <td></td>\n",
              "      <td></td>\n",
              "    </tr>\n",
              "    <tr>\n",
              "      <th>607</th>\n",
              "      <td>ANAND ARCHIES Girls Flats</td>\n",
              "      <td>499.0</td>\n",
              "      <td>499.0</td>\n",
              "      <td>[\"http://img5a.flixcart.com/image/sandal/y/y/f...</td>\n",
              "      <td>Specifications of ANAND ARCHIES Girls Flats Ge...</td>\n",
              "      <td>ANAND ARCHIES</td>\n",
              "      <td>{\"product_specification\"=&gt;[{\"key\"=&gt;\"Ideal For\"...</td>\n",
              "      <td>ANAND ARCHIES Girls Flats</td>\n",
              "      <td></td>\n",
              "      <td></td>\n",
              "    </tr>\n",
              "    <tr>\n",
              "      <th>13073</th>\n",
              "      <td>ANAND ARCHIES Girls Flats</td>\n",
              "      <td>499.0</td>\n",
              "      <td>399.0</td>\n",
              "      <td>[\"http://img6a.flixcart.com/image/sandal/k/h/f...</td>\n",
              "      <td>Specifications of ANAND ARCHIES Girls Flats Ge...</td>\n",
              "      <td>ANAND ARCHIES</td>\n",
              "      <td>{\"product_specification\"=&gt;[{\"key\"=&gt;\"Ideal For\"...</td>\n",
              "      <td>ANAND ARCHIES Girls Flats</td>\n",
              "      <td></td>\n",
              "      <td></td>\n",
              "    </tr>\n",
              "    <tr>\n",
              "      <th>608</th>\n",
              "      <td>ANAND ARCHIES Girls Wedges</td>\n",
              "      <td>899.0</td>\n",
              "      <td>899.0</td>\n",
              "      <td>[\"http://img5a.flixcart.com/image/sandal/8/g/j...</td>\n",
              "      <td>Specifications of ANAND ARCHIES Girls Wedges G...</td>\n",
              "      <td>ANAND ARCHIES</td>\n",
              "      <td>{\"product_specification\"=&gt;[{\"key\"=&gt;\"Ideal For\"...</td>\n",
              "      <td>ANAND ARCHIES Girls Wedges</td>\n",
              "      <td></td>\n",
              "      <td></td>\n",
              "    </tr>\n",
              "    <tr>\n",
              "      <th>4203</th>\n",
              "      <td>ANASAZI Casual 3/4 Sleeve Solid Women's Top</td>\n",
              "      <td>899.0</td>\n",
              "      <td>899.0</td>\n",
              "      <td>[\"http://img5a.flixcart.com/image/top/x/z/j/21...</td>\n",
              "      <td>Specifications of ANASAZI Casual 3/4 Sleeve So...</td>\n",
              "      <td>ANASAZI</td>\n",
              "      <td>{\"product_specification\"=&gt;[{\"key\"=&gt;\"Sleeve\", \"...</td>\n",
              "      <td>ANASAZI Casual Sleeve Solid Women s Top</td>\n",
              "      <td></td>\n",
              "      <td></td>\n",
              "    </tr>\n",
              "  </tbody>\n",
              "</table>\n",
              "</div>\n",
              "      <button class=\"colab-df-convert\" onclick=\"convertToInteractive('df-aa08bb74-c349-4201-be91-1bfe1dd8803a')\"\n",
              "              title=\"Convert this dataframe to an interactive table.\"\n",
              "              style=\"display:none;\">\n",
              "        \n",
              "  <svg xmlns=\"http://www.w3.org/2000/svg\" height=\"24px\"viewBox=\"0 0 24 24\"\n",
              "       width=\"24px\">\n",
              "    <path d=\"M0 0h24v24H0V0z\" fill=\"none\"/>\n",
              "    <path d=\"M18.56 5.44l.94 2.06.94-2.06 2.06-.94-2.06-.94-.94-2.06-.94 2.06-2.06.94zm-11 1L8.5 8.5l.94-2.06 2.06-.94-2.06-.94L8.5 2.5l-.94 2.06-2.06.94zm10 10l.94 2.06.94-2.06 2.06-.94-2.06-.94-.94-2.06-.94 2.06-2.06.94z\"/><path d=\"M17.41 7.96l-1.37-1.37c-.4-.4-.92-.59-1.43-.59-.52 0-1.04.2-1.43.59L10.3 9.45l-7.72 7.72c-.78.78-.78 2.05 0 2.83L4 21.41c.39.39.9.59 1.41.59.51 0 1.02-.2 1.41-.59l7.78-7.78 2.81-2.81c.8-.78.8-2.07 0-2.86zM5.41 20L4 18.59l7.72-7.72 1.47 1.35L5.41 20z\"/>\n",
              "  </svg>\n",
              "      </button>\n",
              "      \n",
              "  <style>\n",
              "    .colab-df-container {\n",
              "      display:flex;\n",
              "      flex-wrap:wrap;\n",
              "      gap: 12px;\n",
              "    }\n",
              "\n",
              "    .colab-df-convert {\n",
              "      background-color: #E8F0FE;\n",
              "      border: none;\n",
              "      border-radius: 50%;\n",
              "      cursor: pointer;\n",
              "      display: none;\n",
              "      fill: #1967D2;\n",
              "      height: 32px;\n",
              "      padding: 0 0 0 0;\n",
              "      width: 32px;\n",
              "    }\n",
              "\n",
              "    .colab-df-convert:hover {\n",
              "      background-color: #E2EBFA;\n",
              "      box-shadow: 0px 1px 2px rgba(60, 64, 67, 0.3), 0px 1px 3px 1px rgba(60, 64, 67, 0.15);\n",
              "      fill: #174EA6;\n",
              "    }\n",
              "\n",
              "    [theme=dark] .colab-df-convert {\n",
              "      background-color: #3B4455;\n",
              "      fill: #D2E3FC;\n",
              "    }\n",
              "\n",
              "    [theme=dark] .colab-df-convert:hover {\n",
              "      background-color: #434B5C;\n",
              "      box-shadow: 0px 1px 3px 1px rgba(0, 0, 0, 0.15);\n",
              "      filter: drop-shadow(0px 1px 2px rgba(0, 0, 0, 0.3));\n",
              "      fill: #FFFFFF;\n",
              "    }\n",
              "  </style>\n",
              "\n",
              "      <script>\n",
              "        const buttonEl =\n",
              "          document.querySelector('#df-aa08bb74-c349-4201-be91-1bfe1dd8803a button.colab-df-convert');\n",
              "        buttonEl.style.display =\n",
              "          google.colab.kernel.accessAllowed ? 'block' : 'none';\n",
              "\n",
              "        async function convertToInteractive(key) {\n",
              "          const element = document.querySelector('#df-aa08bb74-c349-4201-be91-1bfe1dd8803a');\n",
              "          const dataTable =\n",
              "            await google.colab.kernel.invokeFunction('convertToInteractive',\n",
              "                                                     [key], {});\n",
              "          if (!dataTable) return;\n",
              "\n",
              "          const docLinkHtml = 'Like what you see? Visit the ' +\n",
              "            '<a target=\"_blank\" href=https://colab.research.google.com/notebooks/data_table.ipynb>data table notebook</a>'\n",
              "            + ' to learn more about interactive tables.';\n",
              "          element.innerHTML = '';\n",
              "          dataTable['output_type'] = 'display_data';\n",
              "          await google.colab.output.renderOutput(dataTable, element);\n",
              "          const docLink = document.createElement('div');\n",
              "          docLink.innerHTML = docLinkHtml;\n",
              "          element.appendChild(docLink);\n",
              "        }\n",
              "      </script>\n",
              "    </div>\n",
              "  </div>\n",
              "  "
            ]
          },
          "metadata": {},
          "execution_count": 10
        }
      ],
      "source": [
        "fkt_df.head()"
      ],
      "id": "15d624b9"
    },
    {
      "cell_type": "markdown",
      "metadata": {
        "id": "c50e7b8e"
      },
      "source": [
        "## Data cleaning and preprocessing with amazon dataset\n",
        "\n",
        "\n"
      ],
      "id": "c50e7b8e"
    },
    {
      "cell_type": "code",
      "execution_count": 11,
      "metadata": {
        "colab": {
          "base_uri": "https://localhost:8080/"
        },
        "id": "3745349b",
        "outputId": "239f20e4-2dd7-4b39-f4b1-be4ed239fb27"
      },
      "outputs": [
        {
          "output_type": "execute_result",
          "data": {
            "text/plain": [
              "20000"
            ]
          },
          "metadata": {},
          "execution_count": 11
        }
      ],
      "source": [
        "len(amz_df)"
      ],
      "id": "3745349b"
    },
    {
      "cell_type": "code",
      "execution_count": 12,
      "metadata": {
        "colab": {
          "base_uri": "https://localhost:8080/"
        },
        "id": "c644a36d",
        "outputId": "be761d9c-eb6b-4ed5-ee27-82eb4b9164c0"
      },
      "outputs": [
        {
          "output_type": "execute_result",
          "data": {
            "text/plain": [
              "uniq_id                       0\n",
              "crawl_timestamp               0\n",
              "product_url                   0\n",
              "product_name                  0\n",
              "product_category_tree         0\n",
              "pid                           0\n",
              "retail_price                  0\n",
              "discounted_price              0\n",
              "image                         3\n",
              "is_FK_Advantage_product       0\n",
              "description                   2\n",
              "product_rating                0\n",
              "overall_rating                0\n",
              "brand                      5864\n",
              "product_specifications       14\n",
              "dtype: int64"
            ]
          },
          "metadata": {},
          "execution_count": 12
        }
      ],
      "source": [
        "amz_df.isna().sum()"
      ],
      "id": "c644a36d"
    },
    {
      "cell_type": "code",
      "execution_count": 13,
      "metadata": {
        "id": "b870a374"
      },
      "outputs": [],
      "source": [
        "# Removing missing values\n",
        "amz_df = amz_df.dropna(subset=[\"image\",\"description\",\"product_specifications\",\"brand\"])\n",
        "amz_df.reset_index(drop=True, inplace=True)"
      ],
      "id": "b870a374"
    },
    {
      "cell_type": "code",
      "execution_count": 14,
      "metadata": {
        "colab": {
          "base_uri": "https://localhost:8080/"
        },
        "id": "cad714b8",
        "outputId": "f1311860-0065-4ea0-c44c-0800b9fe1599"
      },
      "outputs": [
        {
          "output_type": "execute_result",
          "data": {
            "text/plain": [
              "14121"
            ]
          },
          "metadata": {},
          "execution_count": 14
        }
      ],
      "source": [
        "len(amz_df)"
      ],
      "id": "cad714b8"
    },
    {
      "cell_type": "code",
      "execution_count": 15,
      "metadata": {
        "colab": {
          "base_uri": "https://localhost:8080/"
        },
        "id": "c8edb248",
        "outputId": "9a7d1859-e8d8-49b3-e30d-7adb94639412"
      },
      "outputs": [
        {
          "output_type": "stream",
          "name": "stderr",
          "text": [
            "/usr/local/lib/python3.8/dist-packages/pandas/core/indexing.py:1684: SettingWithCopyWarning: \n",
            "A value is trying to be set on a copy of a slice from a DataFrame.\n",
            "Try using .loc[row_indexer,col_indexer] = value instead\n",
            "\n",
            "See the caveats in the documentation: https://pandas.pydata.org/pandas-docs/stable/user_guide/indexing.html#returning-a-view-versus-a-copy\n",
            "  self.obj[key] = infer_fill_value(value)\n",
            "/usr/local/lib/python3.8/dist-packages/pandas/core/indexing.py:1817: SettingWithCopyWarning: \n",
            "A value is trying to be set on a copy of a slice from a DataFrame.\n",
            "Try using .loc[row_indexer,col_indexer] = value instead\n",
            "\n",
            "See the caveats in the documentation: https://pandas.pydata.org/pandas-docs/stable/user_guide/indexing.html#returning-a-view-versus-a-copy\n",
            "  self._setitem_single_column(loc, value, pi)\n",
            "/usr/local/lib/python3.8/dist-packages/pandas/core/indexing.py:1797: SettingWithCopyWarning: \n",
            "A value is trying to be set on a copy of a slice from a DataFrame.\n",
            "Try using .loc[row_indexer,col_indexer] = value instead\n",
            "\n",
            "See the caveats in the documentation: https://pandas.pydata.org/pandas-docs/stable/user_guide/indexing.html#returning-a-view-versus-a-copy\n",
            "  self._setitem_single_column(loc, v, pi)\n"
          ]
        }
      ],
      "source": [
        "# Splitting category into seperate tags\n",
        "for i in range(len(amz_df)):\n",
        "    x = amz_df.loc[i, \"product_category_tree\"].split(\">>\")\n",
        "    tags = [re.sub(\"[^a-zA-Z]+\", \" \", i).strip() for i in x]\n",
        "    amz_df.loc[i, \"category_1\"] = tags[0]\n",
        "    try:\n",
        "        amz_df.loc[i, \"category_2\"] = tags[1]\n",
        "    except:\n",
        "        amz_df.loc[i, \"category_2\"] = \" \"\n",
        "    try:\n",
        "        amz_df.loc[i, \"category_3\"] = tags[2:]\n",
        "    except:\n",
        "        amz_df.loc[i, \"category_3\"] = \" \""
      ],
      "id": "c8edb248"
    },
    {
      "cell_type": "code",
      "source": [
        "#Dropping irrelevant columns\n",
        "amz_df.drop([\"product_category_tree\",\"uniq_id\",\"crawl_timestamp\",\"product_url\",\"pid\",\"is_FK_Advantage_product\",\"overall_rating\",\"product_rating\"],axis=1,inplace=True)"
      ],
      "metadata": {
        "id": "Ox0MqiW_sQuz"
      },
      "id": "Ox0MqiW_sQuz",
      "execution_count": 16,
      "outputs": []
    },
    {
      "cell_type": "code",
      "execution_count": 17,
      "metadata": {
        "id": "424ac9f9"
      },
      "outputs": [],
      "source": [
        "# Sorting the dataset by category\n",
        "amz_df.sort_values(by = [\"category_1\",\"category_2\",\"category_3\"], inplace=True)"
      ],
      "id": "424ac9f9"
    },
    {
      "cell_type": "code",
      "execution_count": 18,
      "metadata": {
        "colab": {
          "base_uri": "https://localhost:8080/",
          "height": 634
        },
        "id": "e4593806",
        "outputId": "b17158cc-4688-4db0-b6e6-a57cc800c464"
      },
      "outputs": [
        {
          "output_type": "execute_result",
          "data": {
            "text/plain": [
              "                                      product_name  retail_price  \\\n",
              "10319                       ABEEZ Boys, Men, Girls           382   \n",
              "609                      ANAND ARCHIES Girls Flats           491   \n",
              "13136                    ANAND ARCHIES GIRLS FLATS           497   \n",
              "610                     ANAND ARCHIES Girls Wedges           888   \n",
              "4210   ANASAZI Casual 3/4 Sleeve Solid Women's Top           882   \n",
              "\n",
              "       discounted_price                                              image  \\\n",
              "10319               348  [\"http://img5a.flixcart.com/image/wrist-band/z...   \n",
              "609                 641  [\"http://img5a.flixcart.com/image/sandal/y/y/f...   \n",
              "13136               475  [\"http://img6a.flixcart.com/image/sandal/k/h/f...   \n",
              "610                1094  [\"http://img5a.flixcart.com/image/sandal/8/g/j...   \n",
              "4210               1026  [\"http://img5a.flixcart.com/image/top/x/z/j/21...   \n",
              "\n",
              "                                             description          brand  \\\n",
              "10319  Key Features of ABEEZ Boys, Men, Girls Wrist b...          ABEEZ   \n",
              "609    Specifications of ANAND ARCHIES Girls Flats Ge...  ANAND ARCHIES   \n",
              "13136  Specifications of ANAND ARCHIES Girls Flats Ge...  ANAND ARCHIES   \n",
              "610    Specifications of ANAND ARCHIES Girls Wedges G...  ANAND ARCHIES   \n",
              "4210   Specifications of ANASAZI Casual 3/4 Sleeve So...        ANASAZI   \n",
              "\n",
              "                                  product_specifications  \\\n",
              "10319  {\"product_specification\"=>[{\"key\"=>\"Material\",...   \n",
              "609    {\"product_specification\"=>[{\"key\"=>\"Ideal For\"...   \n",
              "13136  {\"product_specification\"=>[{\"key\"=>\"Ideal For\"...   \n",
              "610    {\"product_specification\"=>[{\"key\"=>\"Ideal For\"...   \n",
              "4210   {\"product_specification\"=>[{\"key\"=>\"Sleeve\", \"...   \n",
              "\n",
              "                                    category_1 category_2 category_3  \n",
              "10319       ABEEZ Boys Men Girls Black Pack of                        \n",
              "609                  ANAND ARCHIES Girls Flats                        \n",
              "13136                ANAND ARCHIES Girls Flats                        \n",
              "610                 ANAND ARCHIES Girls Wedges                        \n",
              "4210   ANASAZI Casual Sleeve Solid Women s Top                        "
            ],
            "text/html": [
              "\n",
              "  <div id=\"df-e750f182-9a5c-4c56-a0b0-2c0aaa1269bf\">\n",
              "    <div class=\"colab-df-container\">\n",
              "      <div>\n",
              "<style scoped>\n",
              "    .dataframe tbody tr th:only-of-type {\n",
              "        vertical-align: middle;\n",
              "    }\n",
              "\n",
              "    .dataframe tbody tr th {\n",
              "        vertical-align: top;\n",
              "    }\n",
              "\n",
              "    .dataframe thead th {\n",
              "        text-align: right;\n",
              "    }\n",
              "</style>\n",
              "<table border=\"1\" class=\"dataframe\">\n",
              "  <thead>\n",
              "    <tr style=\"text-align: right;\">\n",
              "      <th></th>\n",
              "      <th>product_name</th>\n",
              "      <th>retail_price</th>\n",
              "      <th>discounted_price</th>\n",
              "      <th>image</th>\n",
              "      <th>description</th>\n",
              "      <th>brand</th>\n",
              "      <th>product_specifications</th>\n",
              "      <th>category_1</th>\n",
              "      <th>category_2</th>\n",
              "      <th>category_3</th>\n",
              "    </tr>\n",
              "  </thead>\n",
              "  <tbody>\n",
              "    <tr>\n",
              "      <th>10319</th>\n",
              "      <td>ABEEZ Boys, Men, Girls</td>\n",
              "      <td>382</td>\n",
              "      <td>348</td>\n",
              "      <td>[\"http://img5a.flixcart.com/image/wrist-band/z...</td>\n",
              "      <td>Key Features of ABEEZ Boys, Men, Girls Wrist b...</td>\n",
              "      <td>ABEEZ</td>\n",
              "      <td>{\"product_specification\"=&gt;[{\"key\"=&gt;\"Material\",...</td>\n",
              "      <td>ABEEZ Boys Men Girls Black Pack of</td>\n",
              "      <td></td>\n",
              "      <td></td>\n",
              "    </tr>\n",
              "    <tr>\n",
              "      <th>609</th>\n",
              "      <td>ANAND ARCHIES Girls Flats</td>\n",
              "      <td>491</td>\n",
              "      <td>641</td>\n",
              "      <td>[\"http://img5a.flixcart.com/image/sandal/y/y/f...</td>\n",
              "      <td>Specifications of ANAND ARCHIES Girls Flats Ge...</td>\n",
              "      <td>ANAND ARCHIES</td>\n",
              "      <td>{\"product_specification\"=&gt;[{\"key\"=&gt;\"Ideal For\"...</td>\n",
              "      <td>ANAND ARCHIES Girls Flats</td>\n",
              "      <td></td>\n",
              "      <td></td>\n",
              "    </tr>\n",
              "    <tr>\n",
              "      <th>13136</th>\n",
              "      <td>ANAND ARCHIES GIRLS FLATS</td>\n",
              "      <td>497</td>\n",
              "      <td>475</td>\n",
              "      <td>[\"http://img6a.flixcart.com/image/sandal/k/h/f...</td>\n",
              "      <td>Specifications of ANAND ARCHIES Girls Flats Ge...</td>\n",
              "      <td>ANAND ARCHIES</td>\n",
              "      <td>{\"product_specification\"=&gt;[{\"key\"=&gt;\"Ideal For\"...</td>\n",
              "      <td>ANAND ARCHIES Girls Flats</td>\n",
              "      <td></td>\n",
              "      <td></td>\n",
              "    </tr>\n",
              "    <tr>\n",
              "      <th>610</th>\n",
              "      <td>ANAND ARCHIES Girls Wedges</td>\n",
              "      <td>888</td>\n",
              "      <td>1094</td>\n",
              "      <td>[\"http://img5a.flixcart.com/image/sandal/8/g/j...</td>\n",
              "      <td>Specifications of ANAND ARCHIES Girls Wedges G...</td>\n",
              "      <td>ANAND ARCHIES</td>\n",
              "      <td>{\"product_specification\"=&gt;[{\"key\"=&gt;\"Ideal For\"...</td>\n",
              "      <td>ANAND ARCHIES Girls Wedges</td>\n",
              "      <td></td>\n",
              "      <td></td>\n",
              "    </tr>\n",
              "    <tr>\n",
              "      <th>4210</th>\n",
              "      <td>ANASAZI Casual 3/4 Sleeve Solid Women's Top</td>\n",
              "      <td>882</td>\n",
              "      <td>1026</td>\n",
              "      <td>[\"http://img5a.flixcart.com/image/top/x/z/j/21...</td>\n",
              "      <td>Specifications of ANASAZI Casual 3/4 Sleeve So...</td>\n",
              "      <td>ANASAZI</td>\n",
              "      <td>{\"product_specification\"=&gt;[{\"key\"=&gt;\"Sleeve\", \"...</td>\n",
              "      <td>ANASAZI Casual Sleeve Solid Women s Top</td>\n",
              "      <td></td>\n",
              "      <td></td>\n",
              "    </tr>\n",
              "  </tbody>\n",
              "</table>\n",
              "</div>\n",
              "      <button class=\"colab-df-convert\" onclick=\"convertToInteractive('df-e750f182-9a5c-4c56-a0b0-2c0aaa1269bf')\"\n",
              "              title=\"Convert this dataframe to an interactive table.\"\n",
              "              style=\"display:none;\">\n",
              "        \n",
              "  <svg xmlns=\"http://www.w3.org/2000/svg\" height=\"24px\"viewBox=\"0 0 24 24\"\n",
              "       width=\"24px\">\n",
              "    <path d=\"M0 0h24v24H0V0z\" fill=\"none\"/>\n",
              "    <path d=\"M18.56 5.44l.94 2.06.94-2.06 2.06-.94-2.06-.94-.94-2.06-.94 2.06-2.06.94zm-11 1L8.5 8.5l.94-2.06 2.06-.94-2.06-.94L8.5 2.5l-.94 2.06-2.06.94zm10 10l.94 2.06.94-2.06 2.06-.94-2.06-.94-.94-2.06-.94 2.06-2.06.94z\"/><path d=\"M17.41 7.96l-1.37-1.37c-.4-.4-.92-.59-1.43-.59-.52 0-1.04.2-1.43.59L10.3 9.45l-7.72 7.72c-.78.78-.78 2.05 0 2.83L4 21.41c.39.39.9.59 1.41.59.51 0 1.02-.2 1.41-.59l7.78-7.78 2.81-2.81c.8-.78.8-2.07 0-2.86zM5.41 20L4 18.59l7.72-7.72 1.47 1.35L5.41 20z\"/>\n",
              "  </svg>\n",
              "      </button>\n",
              "      \n",
              "  <style>\n",
              "    .colab-df-container {\n",
              "      display:flex;\n",
              "      flex-wrap:wrap;\n",
              "      gap: 12px;\n",
              "    }\n",
              "\n",
              "    .colab-df-convert {\n",
              "      background-color: #E8F0FE;\n",
              "      border: none;\n",
              "      border-radius: 50%;\n",
              "      cursor: pointer;\n",
              "      display: none;\n",
              "      fill: #1967D2;\n",
              "      height: 32px;\n",
              "      padding: 0 0 0 0;\n",
              "      width: 32px;\n",
              "    }\n",
              "\n",
              "    .colab-df-convert:hover {\n",
              "      background-color: #E2EBFA;\n",
              "      box-shadow: 0px 1px 2px rgba(60, 64, 67, 0.3), 0px 1px 3px 1px rgba(60, 64, 67, 0.15);\n",
              "      fill: #174EA6;\n",
              "    }\n",
              "\n",
              "    [theme=dark] .colab-df-convert {\n",
              "      background-color: #3B4455;\n",
              "      fill: #D2E3FC;\n",
              "    }\n",
              "\n",
              "    [theme=dark] .colab-df-convert:hover {\n",
              "      background-color: #434B5C;\n",
              "      box-shadow: 0px 1px 3px 1px rgba(0, 0, 0, 0.15);\n",
              "      filter: drop-shadow(0px 1px 2px rgba(0, 0, 0, 0.3));\n",
              "      fill: #FFFFFF;\n",
              "    }\n",
              "  </style>\n",
              "\n",
              "      <script>\n",
              "        const buttonEl =\n",
              "          document.querySelector('#df-e750f182-9a5c-4c56-a0b0-2c0aaa1269bf button.colab-df-convert');\n",
              "        buttonEl.style.display =\n",
              "          google.colab.kernel.accessAllowed ? 'block' : 'none';\n",
              "\n",
              "        async function convertToInteractive(key) {\n",
              "          const element = document.querySelector('#df-e750f182-9a5c-4c56-a0b0-2c0aaa1269bf');\n",
              "          const dataTable =\n",
              "            await google.colab.kernel.invokeFunction('convertToInteractive',\n",
              "                                                     [key], {});\n",
              "          if (!dataTable) return;\n",
              "\n",
              "          const docLinkHtml = 'Like what you see? Visit the ' +\n",
              "            '<a target=\"_blank\" href=https://colab.research.google.com/notebooks/data_table.ipynb>data table notebook</a>'\n",
              "            + ' to learn more about interactive tables.';\n",
              "          element.innerHTML = '';\n",
              "          dataTable['output_type'] = 'display_data';\n",
              "          await google.colab.output.renderOutput(dataTable, element);\n",
              "          const docLink = document.createElement('div');\n",
              "          docLink.innerHTML = docLinkHtml;\n",
              "          element.appendChild(docLink);\n",
              "        }\n",
              "      </script>\n",
              "    </div>\n",
              "  </div>\n",
              "  "
            ]
          },
          "metadata": {},
          "execution_count": 18
        }
      ],
      "source": [
        "amz_df.head()"
      ],
      "id": "e4593806"
    },
    {
      "cell_type": "code",
      "execution_count": 27,
      "metadata": {
        "id": "4d69b328"
      },
      "outputs": [],
      "source": [
        "from sentence_transformers import SentenceTransformer\n",
        "from sklearn.metrics.pairwise import cosine_similarity"
      ],
      "id": "4d69b328"
    },
    {
      "cell_type": "markdown",
      "metadata": {
        "id": "4cffa885"
      },
      "source": [
        "## Product matching using Word Embeddings and Cosine Similarity"
      ],
      "id": "4cffa885"
    },
    {
      "cell_type": "code",
      "execution_count": 26,
      "metadata": {
        "id": "b32eeb5c"
      },
      "outputs": [],
      "source": [
        "model = SentenceTransformer('sentence-transformers/all-MiniLM-L12-v2')"
      ],
      "id": "b32eeb5c"
    },
    {
      "cell_type": "code",
      "execution_count": 22,
      "metadata": {
        "id": "3f127de5"
      },
      "outputs": [],
      "source": [
        "# word embeddings\n",
        "embeddings = model.encode(amz_df[\"description\"])"
      ],
      "id": "3f127de5"
    },
    {
      "cell_type": "code",
      "execution_count": 23,
      "metadata": {
        "id": "20980d9f"
      },
      "outputs": [],
      "source": [
        "# Final dataframe\n",
        "final_df = pd.DataFrame(columns=[\"Product name in Flipkart\",\"Retail Price in Flipkart\",\"Discounted price in Flipkart\",\n",
        "                          \"Product name in Amazon\",\"Retail Price in Amazon\",\"Discounted price in Amazon\"])"
      ],
      "id": "20980d9f"
    },
    {
      "cell_type": "code",
      "execution_count": 24,
      "metadata": {
        "id": "03c1b48c"
      },
      "outputs": [],
      "source": [
        "# Index of rows\n",
        "x = 0\n",
        "\n",
        "for i in range(len(fkt_df)):\n",
        "    try:\n",
        "        # store the brand name of the product from Flipkart\n",
        "        tag = fkt_df.loc[i, \"brand\"]\n",
        "\n",
        "        # Get all the products from Amazon that match with brand name\n",
        "        amz = amz_df[amz_df[\"brand\"] == tag]\n",
        "\n",
        "        # Store the product category of the product from Flipkart\n",
        "        tag = fkt_df.loc[i, \"category_1\"]\n",
        "\n",
        "        # Get all the products from Amazon that match the category\n",
        "        amz = amz_df[amz_df[\"category_1\"] == tag]\n",
        "\n",
        "        # Store the index of matched products\n",
        "        index = [i for i in amz.index]\n",
        "\n",
        "        # Find the embeddings of matched products\n",
        "        embedding = embeddings[index]\n",
        "        amz.reset_index(drop=True, inplace=True)\n",
        "\n",
        "        # Store the description of the product from Flipkart\n",
        "        description = fkt_df.loc[i, \"description\"]\n",
        "        embedding = np.vstack((model.encode(description), embedding))\n",
        "\n",
        "        # Calculate the cosine similarity of the product with Amazon products\n",
        "        cs = cosine_similarity([embedding[0]], embedding[1:])\n",
        "        cs = cs[0]\n",
        "        c = np.argmax(cs)\n",
        "\n",
        "        # Store the product details of Flipkart\n",
        "        fkt_name = fkt_df.loc[i, \"product_name\"]\n",
        "        fkt_retail = fkt_df.loc[i, \"retail_price\"]\n",
        "        fkt_discounted = fkt_df.loc[i, \"discounted_price\"]\n",
        "\n",
        "        # Store the product details of Amazon\n",
        "        amz_name = amz.loc[c, \"product_name\"]\n",
        "        amz_retail = amz.loc[c, \"retail_price\"]\n",
        "        amz_discounted = amz.loc[c, \"discounted_price\"]\n",
        "\n",
        "        final_df.loc[x] = [fkt_name, fkt_retail, fkt_discounted, amz_name, amz_retail, amz_discounted]\n",
        "\n",
        "        x += 1\n",
        "    except:\n",
        "        pass"
      ],
      "id": "03c1b48c"
    },
    {
      "cell_type": "code",
      "execution_count": 25,
      "metadata": {
        "colab": {
          "base_uri": "https://localhost:8080/",
          "height": 641
        },
        "id": "d04d7d4b",
        "outputId": "8007a9fc-d120-4fba-e807-cc1538664c9e"
      },
      "outputs": [
        {
          "output_type": "execute_result",
          "data": {
            "text/plain": [
              "                      Product name in Flipkart  Retail Price in Flipkart  \\\n",
              "0          Alisha Solid Women's Cycling Shorts                     999.0   \n",
              "1          FabHomeDecor Fabric Double Sofa Bed                   32157.0   \n",
              "2                                   AW Bellies                     999.0   \n",
              "3          Alisha Solid Women's Cycling Shorts                     699.0   \n",
              "4        Sicons All Purpose Arnica Dog Shampoo                     220.0   \n",
              "...                                        ...                       ...   \n",
              "14053           WallDesign Small Vinyl Sticker                    1500.0   \n",
              "14054  Wallmantra Large Vinyl Stickers Sticker                    1429.0   \n",
              "14055  Elite Collection Medium Acrylic Sticker                    1299.0   \n",
              "14056  Elite Collection Medium Acrylic Sticker                    1499.0   \n",
              "14057  Elite Collection Medium Acrylic Sticker                    1499.0   \n",
              "\n",
              "       Discounted price in Flipkart                   Product name in Amazon  \\\n",
              "0                             379.0      Alisha Solid Women's Cycling Shorts   \n",
              "1                           22646.0      FabHomeDecor Fabric Double Sofa Bed   \n",
              "2                             499.0                               AW Bellies   \n",
              "3                             267.0      Alisha Solid Women's Cycling Shorts   \n",
              "4                             210.0    Sicons All Purpose Arnica Dog Shampoo   \n",
              "...                             ...                                      ...   \n",
              "14053                         730.0               WALLDESIGN S VINYL STICKER   \n",
              "14054                        1143.0  WALLMANTRA LARGE VINYL STICKERS STICKER   \n",
              "14055                         999.0       ELITE COLLECTION M ACRYLIC STICKER   \n",
              "14056                        1199.0       ELITE COLLECTION M ACRYLIC STICKER   \n",
              "14057                         999.0       ELITE COLLECTION M ACRYLIC STICKER   \n",
              "\n",
              "      Retail Price in Amazon Discounted price in Amazon  \n",
              "0                        982                        438  \n",
              "1                      32143                      29121  \n",
              "2                        991                        551  \n",
              "3                        694                        325  \n",
              "4                        208                        258  \n",
              "...                      ...                        ...  \n",
              "14053                   1495                        934  \n",
              "14054                   1422                       1484  \n",
              "14055                   1279                       1254  \n",
              "14056                   1588                       1471  \n",
              "14057                   1279                       1254  \n",
              "\n",
              "[14058 rows x 6 columns]"
            ],
            "text/html": [
              "\n",
              "  <div id=\"df-38148c3a-c361-40a0-91ca-4a0eff07ebab\">\n",
              "    <div class=\"colab-df-container\">\n",
              "      <div>\n",
              "<style scoped>\n",
              "    .dataframe tbody tr th:only-of-type {\n",
              "        vertical-align: middle;\n",
              "    }\n",
              "\n",
              "    .dataframe tbody tr th {\n",
              "        vertical-align: top;\n",
              "    }\n",
              "\n",
              "    .dataframe thead th {\n",
              "        text-align: right;\n",
              "    }\n",
              "</style>\n",
              "<table border=\"1\" class=\"dataframe\">\n",
              "  <thead>\n",
              "    <tr style=\"text-align: right;\">\n",
              "      <th></th>\n",
              "      <th>Product name in Flipkart</th>\n",
              "      <th>Retail Price in Flipkart</th>\n",
              "      <th>Discounted price in Flipkart</th>\n",
              "      <th>Product name in Amazon</th>\n",
              "      <th>Retail Price in Amazon</th>\n",
              "      <th>Discounted price in Amazon</th>\n",
              "    </tr>\n",
              "  </thead>\n",
              "  <tbody>\n",
              "    <tr>\n",
              "      <th>0</th>\n",
              "      <td>Alisha Solid Women's Cycling Shorts</td>\n",
              "      <td>999.0</td>\n",
              "      <td>379.0</td>\n",
              "      <td>Alisha Solid Women's Cycling Shorts</td>\n",
              "      <td>982</td>\n",
              "      <td>438</td>\n",
              "    </tr>\n",
              "    <tr>\n",
              "      <th>1</th>\n",
              "      <td>FabHomeDecor Fabric Double Sofa Bed</td>\n",
              "      <td>32157.0</td>\n",
              "      <td>22646.0</td>\n",
              "      <td>FabHomeDecor Fabric Double Sofa Bed</td>\n",
              "      <td>32143</td>\n",
              "      <td>29121</td>\n",
              "    </tr>\n",
              "    <tr>\n",
              "      <th>2</th>\n",
              "      <td>AW Bellies</td>\n",
              "      <td>999.0</td>\n",
              "      <td>499.0</td>\n",
              "      <td>AW Bellies</td>\n",
              "      <td>991</td>\n",
              "      <td>551</td>\n",
              "    </tr>\n",
              "    <tr>\n",
              "      <th>3</th>\n",
              "      <td>Alisha Solid Women's Cycling Shorts</td>\n",
              "      <td>699.0</td>\n",
              "      <td>267.0</td>\n",
              "      <td>Alisha Solid Women's Cycling Shorts</td>\n",
              "      <td>694</td>\n",
              "      <td>325</td>\n",
              "    </tr>\n",
              "    <tr>\n",
              "      <th>4</th>\n",
              "      <td>Sicons All Purpose Arnica Dog Shampoo</td>\n",
              "      <td>220.0</td>\n",
              "      <td>210.0</td>\n",
              "      <td>Sicons All Purpose Arnica Dog Shampoo</td>\n",
              "      <td>208</td>\n",
              "      <td>258</td>\n",
              "    </tr>\n",
              "    <tr>\n",
              "      <th>...</th>\n",
              "      <td>...</td>\n",
              "      <td>...</td>\n",
              "      <td>...</td>\n",
              "      <td>...</td>\n",
              "      <td>...</td>\n",
              "      <td>...</td>\n",
              "    </tr>\n",
              "    <tr>\n",
              "      <th>14053</th>\n",
              "      <td>WallDesign Small Vinyl Sticker</td>\n",
              "      <td>1500.0</td>\n",
              "      <td>730.0</td>\n",
              "      <td>WALLDESIGN S VINYL STICKER</td>\n",
              "      <td>1495</td>\n",
              "      <td>934</td>\n",
              "    </tr>\n",
              "    <tr>\n",
              "      <th>14054</th>\n",
              "      <td>Wallmantra Large Vinyl Stickers Sticker</td>\n",
              "      <td>1429.0</td>\n",
              "      <td>1143.0</td>\n",
              "      <td>WALLMANTRA LARGE VINYL STICKERS STICKER</td>\n",
              "      <td>1422</td>\n",
              "      <td>1484</td>\n",
              "    </tr>\n",
              "    <tr>\n",
              "      <th>14055</th>\n",
              "      <td>Elite Collection Medium Acrylic Sticker</td>\n",
              "      <td>1299.0</td>\n",
              "      <td>999.0</td>\n",
              "      <td>ELITE COLLECTION M ACRYLIC STICKER</td>\n",
              "      <td>1279</td>\n",
              "      <td>1254</td>\n",
              "    </tr>\n",
              "    <tr>\n",
              "      <th>14056</th>\n",
              "      <td>Elite Collection Medium Acrylic Sticker</td>\n",
              "      <td>1499.0</td>\n",
              "      <td>1199.0</td>\n",
              "      <td>ELITE COLLECTION M ACRYLIC STICKER</td>\n",
              "      <td>1588</td>\n",
              "      <td>1471</td>\n",
              "    </tr>\n",
              "    <tr>\n",
              "      <th>14057</th>\n",
              "      <td>Elite Collection Medium Acrylic Sticker</td>\n",
              "      <td>1499.0</td>\n",
              "      <td>999.0</td>\n",
              "      <td>ELITE COLLECTION M ACRYLIC STICKER</td>\n",
              "      <td>1279</td>\n",
              "      <td>1254</td>\n",
              "    </tr>\n",
              "  </tbody>\n",
              "</table>\n",
              "<p>14058 rows × 6 columns</p>\n",
              "</div>\n",
              "      <button class=\"colab-df-convert\" onclick=\"convertToInteractive('df-38148c3a-c361-40a0-91ca-4a0eff07ebab')\"\n",
              "              title=\"Convert this dataframe to an interactive table.\"\n",
              "              style=\"display:none;\">\n",
              "        \n",
              "  <svg xmlns=\"http://www.w3.org/2000/svg\" height=\"24px\"viewBox=\"0 0 24 24\"\n",
              "       width=\"24px\">\n",
              "    <path d=\"M0 0h24v24H0V0z\" fill=\"none\"/>\n",
              "    <path d=\"M18.56 5.44l.94 2.06.94-2.06 2.06-.94-2.06-.94-.94-2.06-.94 2.06-2.06.94zm-11 1L8.5 8.5l.94-2.06 2.06-.94-2.06-.94L8.5 2.5l-.94 2.06-2.06.94zm10 10l.94 2.06.94-2.06 2.06-.94-2.06-.94-.94-2.06-.94 2.06-2.06.94z\"/><path d=\"M17.41 7.96l-1.37-1.37c-.4-.4-.92-.59-1.43-.59-.52 0-1.04.2-1.43.59L10.3 9.45l-7.72 7.72c-.78.78-.78 2.05 0 2.83L4 21.41c.39.39.9.59 1.41.59.51 0 1.02-.2 1.41-.59l7.78-7.78 2.81-2.81c.8-.78.8-2.07 0-2.86zM5.41 20L4 18.59l7.72-7.72 1.47 1.35L5.41 20z\"/>\n",
              "  </svg>\n",
              "      </button>\n",
              "      \n",
              "  <style>\n",
              "    .colab-df-container {\n",
              "      display:flex;\n",
              "      flex-wrap:wrap;\n",
              "      gap: 12px;\n",
              "    }\n",
              "\n",
              "    .colab-df-convert {\n",
              "      background-color: #E8F0FE;\n",
              "      border: none;\n",
              "      border-radius: 50%;\n",
              "      cursor: pointer;\n",
              "      display: none;\n",
              "      fill: #1967D2;\n",
              "      height: 32px;\n",
              "      padding: 0 0 0 0;\n",
              "      width: 32px;\n",
              "    }\n",
              "\n",
              "    .colab-df-convert:hover {\n",
              "      background-color: #E2EBFA;\n",
              "      box-shadow: 0px 1px 2px rgba(60, 64, 67, 0.3), 0px 1px 3px 1px rgba(60, 64, 67, 0.15);\n",
              "      fill: #174EA6;\n",
              "    }\n",
              "\n",
              "    [theme=dark] .colab-df-convert {\n",
              "      background-color: #3B4455;\n",
              "      fill: #D2E3FC;\n",
              "    }\n",
              "\n",
              "    [theme=dark] .colab-df-convert:hover {\n",
              "      background-color: #434B5C;\n",
              "      box-shadow: 0px 1px 3px 1px rgba(0, 0, 0, 0.15);\n",
              "      filter: drop-shadow(0px 1px 2px rgba(0, 0, 0, 0.3));\n",
              "      fill: #FFFFFF;\n",
              "    }\n",
              "  </style>\n",
              "\n",
              "      <script>\n",
              "        const buttonEl =\n",
              "          document.querySelector('#df-38148c3a-c361-40a0-91ca-4a0eff07ebab button.colab-df-convert');\n",
              "        buttonEl.style.display =\n",
              "          google.colab.kernel.accessAllowed ? 'block' : 'none';\n",
              "\n",
              "        async function convertToInteractive(key) {\n",
              "          const element = document.querySelector('#df-38148c3a-c361-40a0-91ca-4a0eff07ebab');\n",
              "          const dataTable =\n",
              "            await google.colab.kernel.invokeFunction('convertToInteractive',\n",
              "                                                     [key], {});\n",
              "          if (!dataTable) return;\n",
              "\n",
              "          const docLinkHtml = 'Like what you see? Visit the ' +\n",
              "            '<a target=\"_blank\" href=https://colab.research.google.com/notebooks/data_table.ipynb>data table notebook</a>'\n",
              "            + ' to learn more about interactive tables.';\n",
              "          element.innerHTML = '';\n",
              "          dataTable['output_type'] = 'display_data';\n",
              "          await google.colab.output.renderOutput(dataTable, element);\n",
              "          const docLink = document.createElement('div');\n",
              "          docLink.innerHTML = docLinkHtml;\n",
              "          element.appendChild(docLink);\n",
              "        }\n",
              "      </script>\n",
              "    </div>\n",
              "  </div>\n",
              "  "
            ]
          },
          "metadata": {},
          "execution_count": 25
        }
      ],
      "source": [
        "final_df.head()"
      ],
      "id": "d04d7d4b"
    },
    {
      "cell_type": "code",
      "execution_count": 25,
      "metadata": {
        "id": "73e09cbe"
      },
      "outputs": [],
      "source": [],
      "id": "73e09cbe"
    }
  ],
  "metadata": {
    "accelerator": "GPU",
    "colab": {
      "provenance": []
    },
    "gpuClass": "standard",
    "kernelspec": {
      "display_name": "Python 3 (ipykernel)",
      "language": "python",
      "name": "python3"
    },
    "language_info": {
      "codemirror_mode": {
        "name": "ipython",
        "version": 3
      },
      "file_extension": ".py",
      "mimetype": "text/x-python",
      "name": "python",
      "nbconvert_exporter": "python",
      "pygments_lexer": "ipython3",
      "version": "3.9.7"
    }
  },
  "nbformat": 4,
  "nbformat_minor": 5
}